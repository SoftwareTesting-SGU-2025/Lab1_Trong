{
  "cells": [
    {
      "cell_type": "code",
      "execution_count": 1,
      "id": "d39365a5",
      "metadata": {
        "colab": {
          "base_uri": "https://localhost:8080/"
        },
        "id": "d39365a5",
        "outputId": "ff2920f6-d41e-4135-aec2-fd2d69ecfba4"
      },
      "outputs": [
        {
          "output_type": "stream",
          "name": "stdout",
          "text": [
            "Writing test_runner.cpp\n"
          ]
        }
      ],
      "source": [
        "%%writefile test_runner.cpp\n",
        "// Dán toàn bộ nội dung của file test_runner.cpp của bạn vào đây\n",
        "#include <iostream>\n",
        "#include <vector>\n",
        "#include <string>\n",
        "#include <cmath>\n",
        "#include <algorithm>\n",
        "#include <iomanip>\n",
        "\n",
        "// --- Dán mã hàm solveQuartic của đề bài vào đây ---\n",
        "int solveQuartic(double a, double b, double c, double x[]) {\n",
        "    if (a == 0 && b == 0 && c == 0) {\n",
        "        return -1;\n",
        "    }\n",
        "    if (a == 0 && b == 0) {\n",
        "        return 0;\n",
        "    }\n",
        "    if (a == 0) {\n",
        "        double y = -c / b;\n",
        "        if (y < 8) return 0; // BUG is here: should be y < 0\n",
        "        x[0] = sqrt(y);\n",
        "        x[1] = -sqrt(y);\n",
        "        return 2;\n",
        "    }\n",
        "    double delta = b * b - 4 * a * c;\n",
        "    if (delta < 0) return 0;\n",
        "    double y1 = (-b + sqrt(delta)) / (2 * a);\n",
        "    double y2 = (-b - sqrt(delta)) / (2 * a);\n",
        "    int count = 0;\n",
        "    if (y1 >= 0) {\n",
        "        if (y1 == 0) { // BUG is here: this block adds 0 and -0\n",
        "             x[count++] = 0.0;\n",
        "        } else {\n",
        "             x[count++] = sqrt(y1);\n",
        "             x[count++] = -sqrt(y1);\n",
        "        }\n",
        "    }\n",
        "    if (y2 >= 0 && y2 != y1) {\n",
        "        if (y2 == 0) { // BUG is also here\n",
        "            x[count++] = 0.0;\n",
        "        } else {\n",
        "            x[count++] = sqrt(y2);\n",
        "            x[count++] = -sqrt(y2);\n",
        "        }\n",
        "    }\n",
        "    return count;\n",
        "}\n",
        "\n",
        "\n",
        "// --- Phần mã kiểm thử tự động ---\n",
        "\n",
        "struct TestCase {\n",
        "    std::string name;\n",
        "    double a, b, c;\n",
        "    int expected_n;\n",
        "    std::vector<double> expected_x;\n",
        "};\n",
        "\n",
        "bool areClose(double a, double b, double epsilon = 1e-9) {\n",
        "    return std::fabs(a - b) < epsilon;\n",
        "}\n",
        "\n",
        "void runTest(const TestCase& tc) {\n",
        "    double actual_x[4];\n",
        "    int actual_n = solveQuartic(tc.a, tc.b, tc.c, actual_x);\n",
        "\n",
        "    bool passed = true;\n",
        "    if (actual_n != tc.expected_n) {\n",
        "        passed = false;\n",
        "    } else if (actual_n > 0) {\n",
        "        std::vector<double> actual_x_vec(actual_x, actual_x + actual_n);\n",
        "        std::vector<double> expected_x_vec = tc.expected_x;\n",
        "\n",
        "        std::sort(actual_x_vec.begin(), actual_x_vec.end());\n",
        "        std::sort(expected_x_vec.begin(), expected_x_vec.end());\n",
        "\n",
        "        if (actual_x_vec.size() != expected_x_vec.size()) {\n",
        "             passed = false;\n",
        "        } else {\n",
        "            for (size_t i = 0; i < actual_x_vec.size(); ++i) {\n",
        "                if (!areClose(actual_x_vec[i], expected_x_vec[i])) {\n",
        "                    passed = false;\n",
        "                    break;\n",
        "                }\n",
        "            }\n",
        "        }\n",
        "    }\n",
        "\n",
        "    std::cout << \"[ \" << (passed ? \"PASS\" : \"FAIL\") << \" ] \" << tc.name << std::endl;\n",
        "    if (!passed) {\n",
        "        std::cout << \"       Input: a=\" << tc.a << \", b=\" << tc.b << \", c=\" << tc.c << std::endl;\n",
        "        std::cout << \"       Expected n: \" << tc.expected_n << \", Got n: \" << actual_n << std::endl;\n",
        "        if (tc.expected_n > 0) {\n",
        "            std::cout << \"       Expected x: [ \";\n",
        "            for(double val : tc.expected_x) std::cout << val << \" \";\n",
        "            std::cout << \"]\" << std::endl;\n",
        "        }\n",
        "        if (actual_n > 0) {\n",
        "            std::cout << \"       Got x:      [ \";\n",
        "            std::vector<double> sorted_actual(actual_x, actual_x + actual_n);\n",
        "            std::sort(sorted_actual.begin(), sorted_actual.end());\n",
        "            for(double val : sorted_actual) std::cout << val << \" \";\n",
        "            std::cout << \"]\" << std::endl;\n",
        "        }\n",
        "        std::cout << \"-----------------------------------------------------\" << std::endl;\n",
        "    }\n",
        "}\n",
        "\n",
        "int main() {\n",
        "    std::vector<TestCase> test_cases = {\n",
        "        {\"Detects typo bug (y<8)\", 0, 1, -4, 2, {-2.0, 2.0}},\n",
        "        {\"Detects logic bug (y=0)\", 1, -4, 0, 3, {-2.0, 0.0, 2.0}},\n",
        "        {\"4 distinct roots\", 1, -5, 4, 4, {-2.0, 2.0, -1.0, 1.0}},\n",
        "        {\"2 distinct roots\", 1, 2, -8, 2, {-sqrt(2.0), sqrt(2.0)}},\n",
        "        {\"No real roots (delta < 0)\", 1, 4, 5, 0, {}},\n",
        "        {\"No real roots (y values are negative)\", 1, 3, 2, 0, {}},\n",
        "        {\"Infinite solutions\", 0, 0, 0, -1, {}},\n",
        "        {\"No solution (constant)\", 0, 0, 5, 0, {}}\n",
        "    };\n",
        "\n",
        "    std::cout << std::fixed << std::setprecision(3);\n",
        "\n",
        "    for (const auto& tc : test_cases) {\n",
        "        runTest(tc);\n",
        "    }\n",
        "\n",
        "    return 0;\n",
        "}"
      ]
    },
    {
      "cell_type": "code",
      "execution_count": 2,
      "id": "b91ecc7f",
      "metadata": {
        "id": "b91ecc7f"
      },
      "outputs": [],
      "source": [
        "!g++ -std=c++11 test_runner.cpp -o test_runner\n"
      ]
    },
    {
      "cell_type": "code",
      "execution_count": 3,
      "id": "d7c69772",
      "metadata": {
        "colab": {
          "base_uri": "https://localhost:8080/"
        },
        "id": "d7c69772",
        "outputId": "5fbb783a-f8c8-4546-83f8-4ba51f46f68d"
      },
      "outputs": [
        {
          "output_type": "stream",
          "name": "stdout",
          "text": [
            "[ FAIL ] Detects typo bug (y<8)\n",
            "       Input: a=0.000, b=1.000, c=-4.000\n",
            "       Expected n: 2, Got n: 0\n",
            "       Expected x: [ -2.000 2.000 ]\n",
            "-----------------------------------------------------\n",
            "[ PASS ] Detects logic bug (y=0)\n",
            "[ PASS ] 4 distinct roots\n",
            "[ PASS ] 2 distinct roots\n",
            "[ PASS ] No real roots (delta < 0)\n",
            "[ PASS ] No real roots (y values are negative)\n",
            "[ PASS ] Infinite solutions\n",
            "[ PASS ] No solution (constant)\n"
          ]
        }
      ],
      "source": [
        "!./test_runner\n"
      ]
    }
  ],
  "metadata": {
    "kernelspec": {
      "display_name": "base",
      "language": "python",
      "name": "python3"
    },
    "language_info": {
      "codemirror_mode": {
        "name": "ipython",
        "version": 3
      },
      "file_extension": ".py",
      "mimetype": "text/x-python",
      "name": "python",
      "nbconvert_exporter": "python",
      "pygments_lexer": "ipython3",
      "version": "3.12.7"
    },
    "colab": {
      "provenance": []
    }
  },
  "nbformat": 4,
  "nbformat_minor": 5
}